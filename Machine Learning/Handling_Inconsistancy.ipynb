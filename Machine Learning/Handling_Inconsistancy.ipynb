{
 "cells": [
  {
   "cell_type": "code",
   "execution_count": 1,
   "metadata": {},
   "outputs": [],
   "source": [
    "# import Libraries\n",
    "import pandas as pd # Is used for data manipulation and analysis. (Read)\n",
    "import numpy as np # Is used for working with arrays. (Manipulate)\n",
    "import matplotlib.pyplot as plt # Is used for data visualization.\n",
    "import seaborn as sns # Is used for data visualization.\n"
   ]
  },
  {
   "cell_type": "code",
   "execution_count": 5,
   "metadata": {},
   "outputs": [
    {
     "data": {
      "text/plain": [
       "{'date': ['2021-12-01', '01-12-2022', '2022/12/01', '12-01-2021'],\n",
       " 'country': ['USA', 'U.S.A.', 'America', 'United States'],\n",
       " 'name': ['Aammar', 'Amaar', 'Hamza', 'Hazma'],\n",
       " 'sales_2020': [100, 200, None, 200],\n",
       " 'sales_2021': [None, 150, 300, 150]}"
      ]
     },
     "execution_count": 5,
     "metadata": {},
     "output_type": "execute_result"
    }
   ],
   "source": [
    "dataset = {\n",
    "    'date': ['2021-12-01', '01-12-2022', '2022/12/01', '12-01-2021'],\n",
    "    'country': ['USA', 'U.S.A.', 'America', 'United States'],\n",
    "    'name': ['Aammar', 'Amaar', 'Hamza', 'Hazma'],\n",
    "    'sales_2020': [100, 200, None, 200],\n",
    "    'sales_2021': [None, 150, 300, 150]\n",
    "}\n",
    "dataset"
   ]
  },
  {
   "cell_type": "code",
   "execution_count": null,
   "metadata": {},
   "outputs": [],
   "source": [
    "# make pandas dataframe\n",
    "df = pd.DataFrame(dataset) # convert dictionary to pandas dataframe\n",
    "df.head()"
   ]
  },
  {
   "cell_type": "code",
   "execution_count": null,
   "metadata": {},
   "outputs": [],
   "source": [
    "# Standardizing the date format\n",
    "df['date']= pd.to_datetime(df['date'], errors='coerce') # convert string to datetime if possible, otherwise set as NaT (Not A Time) in a column\n",
    "df.head()"
   ]
  },
  {
   "cell_type": "code",
   "execution_count": null,
   "metadata": {},
   "outputs": [],
   "source": [
    "# Standardizing the date format\n",
    "df['date']= df['date'].dt.strftime('%Y-%m-%d') # convert datetime to string in 'YYYY-MM-DD' format\n",
    "df.head()"
   ]
  },
  {
   "cell_type": "code",
   "execution_count": null,
   "metadata": {},
   "outputs": [],
   "source": [
    "# Fill NanN values in 'date' column with a specific value\n",
    "df['date'] = df['date'].fillna('2022-01-01') # fill NaN values in 'date' column with '2022-01-01'\n",
    "df.head()"
   ]
  },
  {
   "cell_type": "code",
   "execution_count": null,
   "metadata": {},
   "outputs": [],
   "source": [
    "# Harmonize the name of the country\n",
    "country_mapping = {'USA': 'United States', 'U.S.A.': 'United States', 'America': 'United States'} # create a dictionary in which a person was born.\n",
    "df['country']= df['country'].replace(country_mapping) # replace values in 'country' column with dictionary keys.\n",
    "df.head()"
   ]
  },
  {
   "cell_type": "code",
   "execution_count": null,
   "metadata": {},
   "outputs": [],
   "source": [
    "# Correct the typographical mistakes in name\n",
    "# Let's assume we want to correct 'Amaar' to 'Aammar' and 'Hazma' to 'Hamza'\n",
    "df['name'] = df['name'].replace({'Amaar':'Aammar', 'Hazma':'Hamza'}) # replace values in 'name' column with dictionary keys.\n",
    "df.head()"
   ]
  },
  {
   "cell_type": "code",
   "execution_count": null,
   "metadata": {},
   "outputs": [],
   "source": [
    "# Remove duplicates\n",
    "df = df.drop_duplicates(subset= 'name') # remove duplicates in 'name' column from dataframe df using subset= 'name'.\n",
    "df.head()"
   ]
  },
  {
   "cell_type": "code",
   "execution_count": null,
   "metadata": {},
   "outputs": [],
   "source": [
    "# Resolving contradictory Data\n",
    "# For demonstration, let's assume sales_2021 should always be higher than sales_2020\n",
    "# We'll remove rows where this condition is not met\n",
    "df = df.drop(df[df['sales_2021'] <= df['sales_2020']].index) # remove rows where sales_2021 is less than or equal to sales_2020.\n",
    "df.head()"
   ]
  }
 ],
 "metadata": {
  "kernelspec": {
   "display_name": "python_ml",
   "language": "python",
   "name": "python3"
  },
  "language_info": {
   "codemirror_mode": {
    "name": "ipython",
    "version": 3
   },
   "file_extension": ".py",
   "mimetype": "text/x-python",
   "name": "python",
   "nbconvert_exporter": "python",
   "pygments_lexer": "ipython3",
   "version": "3.12.2"
  }
 },
 "nbformat": 4,
 "nbformat_minor": 2
}
